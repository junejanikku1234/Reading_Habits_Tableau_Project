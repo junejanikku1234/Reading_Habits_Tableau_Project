{
 "cells": [
  {
   "cell_type": "code",
   "execution_count": 1,
   "id": "c67a8553-7274-403e-9b70-3c2751fab0c0",
   "metadata": {},
   "outputs": [],
   "source": [
    "import matplotlib.pyplot as plt\n",
    "import pandas as pd\n",
    "import numpy as np"
   ]
  },
  {
   "cell_type": "code",
   "execution_count": 2,
   "id": "1d5dfcc8-8f6b-4e11-96a8-eea4f7355b4d",
   "metadata": {},
   "outputs": [],
   "source": [
    "df = pd.read_csv('BigML_Dataset_5f50a62795a9306aa200003e.csv')"
   ]
  },
  {
   "cell_type": "code",
   "execution_count": 3,
   "id": "ed432f1c-0b7c-4d4c-acc3-78ad9cc0391a",
   "metadata": {},
   "outputs": [],
   "source": [
    "# Data Cleaning"
   ]
  },
  {
   "cell_type": "code",
   "execution_count": 4,
   "id": "6570d5ea-acaa-4c6a-b314-5e902a0c7d55",
   "metadata": {},
   "outputs": [
    {
     "data": {
      "text/plain": [
       "Age                                                      0\n",
       "Sex                                                      0\n",
       "Race                                                     0\n",
       "Marital status?                                          0\n",
       "Education                                               58\n",
       "Employement                                              0\n",
       "Incomes                                                  0\n",
       "How many books did you read during last 12months?        0\n",
       "Read any printed books during last 12months?           390\n",
       "Read any audiobooks during last 12months?              390\n",
       "Read any e-books during last 12months?                 390\n",
       "Last book you read, you…                               390\n",
       "Do you happen to read any daily news or newspapers?      0\n",
       "Do you happen to read any magazines or journals?         0\n",
       "dtype: int64"
      ]
     },
     "execution_count": 4,
     "metadata": {},
     "output_type": "execute_result"
    }
   ],
   "source": [
    "# 1. Check for missing values\n",
    "df.isnull().sum()"
   ]
  },
  {
   "cell_type": "code",
   "execution_count": 5,
   "id": "6d8df8ed-bb02-475d-b2ce-8ed8ebeeb945",
   "metadata": {},
   "outputs": [],
   "source": [
    "# 2. Drop duplicates if any\n",
    "df = df.drop_duplicates()"
   ]
  },
  {
   "cell_type": "code",
   "execution_count": 6,
   "id": "2ed31f24-e413-408f-bd34-932355a896c1",
   "metadata": {},
   "outputs": [],
   "source": [
    "# 3. Clean categorical text values (strip spaces, unify Yes/No answers)\n",
    "df = df.map(lambda x: x.strip() if isinstance(x, str) else x)"
   ]
  },
  {
   "cell_type": "code",
   "execution_count": 7,
   "id": "503ec6d6-e21b-4f32-af0b-afa3e584c0a0",
   "metadata": {},
   "outputs": [],
   "source": [
    "# 4. Standardize column names\n",
    "df.columns = df.columns.str.strip().str.replace(\"?\", \"\").str.replace(\" \", \"_\").str.lower()"
   ]
  },
  {
   "cell_type": "code",
   "execution_count": 8,
   "id": "9ac91ba5-32c8-4b90-aaf5-5154a1dda4d1",
   "metadata": {},
   "outputs": [],
   "source": [
    "# 5. Handle missing values for reading-related questions\n",
    "# Not removing any rows (Tableau has excluding"
   ]
  },
  {
   "cell_type": "code",
   "execution_count": 9,
   "id": "2219dafc-5465-436c-9c44-d9d1cdd904dd",
   "metadata": {},
   "outputs": [],
   "source": [
    "# 6. Convert categorical Yes/No to binary (0/1) and Don't know to NaN\n",
    "cols_to_convert = [\n",
    "    \"read_any_printed_books_during_last_12months\",\n",
    "    \"read_any_audiobooks_during_last_12months\",\n",
    "    \"read_any_e-books_during_last_12months\"\n",
    "]\n",
    "value_map = {'Yes': 1, 'No': 0}\n",
    "df[cols_to_convert] = df[cols_to_convert].apply(lambda col: col.map(value_map))"
   ]
  },
  {
   "cell_type": "code",
   "execution_count": 10,
   "id": "69bfb16d-d40b-4587-9a68-e49d74c50b3b",
   "metadata": {},
   "outputs": [],
   "source": [
    "# 7. Handle extreme book counts (cap outliers)\n",
    "q99 = df[\"how_many_books_did_you_read_during_last_12months\"].quantile(0.99)\n",
    "df[\"how_many_books_did_you_read_during_last_12months\"] = np.where(\n",
    "    df[\"how_many_books_did_you_read_during_last_12months\"] > q99,\n",
    "    q99,\n",
    "    df[\"how_many_books_did_you_read_during_last_12months\"]\n",
    ")"
   ]
  },
  {
   "cell_type": "code",
   "execution_count": 11,
   "id": "a1c8cfe8-c60c-4eb9-a215-a88254f45736",
   "metadata": {},
   "outputs": [
    {
     "data": {
      "text/plain": [
       "age                                                    0\n",
       "sex                                                    0\n",
       "race                                                   0\n",
       "marital_status                                         0\n",
       "education                                             58\n",
       "employement                                            0\n",
       "incomes                                                0\n",
       "how_many_books_did_you_read_during_last_12months       0\n",
       "read_any_printed_books_during_last_12months           10\n",
       "read_any_audiobooks_during_last_12months               4\n",
       "read_any_e-books_during_last_12months                 14\n",
       "last_book_you_read,_you…                               0\n",
       "do_you_happen_to_read_any_daily_news_or_newspapers     0\n",
       "do_you_happen_to_read_any_magazines_or_journals        0\n",
       "dtype: int64"
      ]
     },
     "execution_count": 11,
     "metadata": {},
     "output_type": "execute_result"
    }
   ],
   "source": [
    "# After applying cleaning\n",
    "df.isnull().sum()"
   ]
  },
  {
   "cell_type": "code",
   "execution_count": 12,
   "id": "4446b624-f86b-4612-81a1-2cac45c89041",
   "metadata": {},
   "outputs": [],
   "source": [
    "# EDA"
   ]
  },
  {
   "cell_type": "code",
   "execution_count": 13,
   "id": "b5983fcb-3a04-4f51-9679-d9786c8e9fd1",
   "metadata": {},
   "outputs": [
    {
     "data": {
      "text/plain": [
       "count    2831.000000\n",
       "mean       47.270223\n",
       "std        18.565806\n",
       "min        16.000000\n",
       "25%        32.000000\n",
       "50%        48.000000\n",
       "75%        62.000000\n",
       "max        93.000000\n",
       "Name: age, dtype: float64"
      ]
     },
     "execution_count": 13,
     "metadata": {},
     "output_type": "execute_result"
    }
   ],
   "source": [
    "# Age distribution\n",
    "df[\"age\"].describe()"
   ]
  },
  {
   "cell_type": "code",
   "execution_count": 14,
   "id": "fa245f6c-3caf-40fa-b8c2-04d2b19cddff",
   "metadata": {},
   "outputs": [
    {
     "data": {
      "text/plain": [
       "sex\n",
       "Female    1479\n",
       "Male      1352\n",
       "Name: count, dtype: int64"
      ]
     },
     "execution_count": 14,
     "metadata": {},
     "output_type": "execute_result"
    }
   ],
   "source": [
    "# Gender distribution\n",
    "df[\"sex\"].value_counts()"
   ]
  },
  {
   "cell_type": "code",
   "execution_count": 15,
   "id": "ace119b1-bc2d-418b-94a2-c70fad714fb8",
   "metadata": {},
   "outputs": [
    {
     "data": {
      "text/plain": [
       "sex\n",
       "Female    19.694388\n",
       "Male      13.377959\n",
       "Name: how_many_books_did_you_read_during_last_12months, dtype: float64"
      ]
     },
     "execution_count": 15,
     "metadata": {},
     "output_type": "execute_result"
    }
   ],
   "source": [
    "# Average books read by gender\n",
    "df.groupby(\"sex\")[\"how_many_books_did_you_read_during_last_12months\"].mean()"
   ]
  },
  {
   "cell_type": "code",
   "execution_count": 16,
   "id": "0740e553-bb03-4f65-8ff7-4eb52a191555",
   "metadata": {},
   "outputs": [
    {
     "data": {
      "text/plain": [
       "education\n",
       "College graduate                                            18.815436\n",
       "Don’t know                                                   5.375000\n",
       "High school graduate                                        12.215116\n",
       "High school incomplete                                      12.460076\n",
       "Post-graduate training/professional school after college    22.738523\n",
       "Some college, no 4-year degree                              17.889401\n",
       "Technical, trade or vocational school AFTER high school     14.378788\n",
       "Name: how_many_books_did_you_read_during_last_12months, dtype: float64"
      ]
     },
     "execution_count": 16,
     "metadata": {},
     "output_type": "execute_result"
    }
   ],
   "source": [
    "# Average books read by education level\n",
    "df.groupby(\"education\")[\"how_many_books_did_you_read_during_last_12months\"].mean()"
   ]
  },
  {
   "cell_type": "code",
   "execution_count": 17,
   "id": "088b6551-2c41-4db7-8026-a26f1b46117e",
   "metadata": {},
   "outputs": [
    {
     "data": {
      "text/plain": [
       "incomes\n",
       "$10,000 to under $20,000       13.578704\n",
       "$100,000 to under $150,000     19.896226\n",
       "$20,000 to under $30,000       16.373950\n",
       "$30,000 to under $40,000       15.203774\n",
       "$40,000 to under $50,000       16.541063\n",
       "$50,000 to under $75,000       18.010152\n",
       "$75,000 to under $100,000      16.806349\n",
       "9$100,000 to under $150,000    15.042453\n",
       "Less than $10,000              12.846626\n",
       "Refused                        16.199313\n",
       "Name: how_many_books_did_you_read_during_last_12months, dtype: float64"
      ]
     },
     "execution_count": 17,
     "metadata": {},
     "output_type": "execute_result"
    }
   ],
   "source": [
    "# Income vs reading habits\n",
    "df.groupby(\"incomes\")[\"how_many_books_did_you_read_during_last_12months\"].mean()"
   ]
  },
  {
   "cell_type": "code",
   "execution_count": 18,
   "id": "27cd1727-574c-46c5-8387-9016ee1dd99e",
   "metadata": {},
   "outputs": [
    {
     "data": {
      "text/plain": [
       "read_any_printed_books_during_last_12months    0.802198\n",
       "read_any_audiobooks_during_last_12months       0.145384\n",
       "read_any_e-books_during_last_12months          0.279020\n",
       "dtype: float64"
      ]
     },
     "execution_count": 18,
     "metadata": {},
     "output_type": "execute_result"
    }
   ],
   "source": [
    "# Print vs e-book vs audiobook popularity\n",
    "df[[\"read_any_printed_books_during_last_12months\",\n",
    "    \"read_any_audiobooks_during_last_12months\",\n",
    "    \"read_any_e-books_during_last_12months\"]].mean()"
   ]
  },
  {
   "cell_type": "code",
   "execution_count": 19,
   "id": "f94da6b4-e056-4c0c-af4c-3ebe896db167",
   "metadata": {},
   "outputs": [
    {
     "data": {
      "text/html": [
       "<div>\n",
       "<style scoped>\n",
       "    .dataframe tbody tr th:only-of-type {\n",
       "        vertical-align: middle;\n",
       "    }\n",
       "\n",
       "    .dataframe tbody tr th {\n",
       "        vertical-align: top;\n",
       "    }\n",
       "\n",
       "    .dataframe thead th {\n",
       "        text-align: right;\n",
       "    }\n",
       "</style>\n",
       "<table border=\"1\" class=\"dataframe\">\n",
       "  <thead>\n",
       "    <tr style=\"text-align: right;\">\n",
       "      <th>do_you_happen_to_read_any_magazines_or_journals</th>\n",
       "      <th>Don’t know</th>\n",
       "      <th>No</th>\n",
       "      <th>Yes</th>\n",
       "    </tr>\n",
       "    <tr>\n",
       "      <th>do_you_happen_to_read_any_daily_news_or_newspapers</th>\n",
       "      <th></th>\n",
       "      <th></th>\n",
       "      <th></th>\n",
       "    </tr>\n",
       "  </thead>\n",
       "  <tbody>\n",
       "    <tr>\n",
       "      <th>Don’t know</th>\n",
       "      <td>1</td>\n",
       "      <td>3</td>\n",
       "      <td>1</td>\n",
       "    </tr>\n",
       "    <tr>\n",
       "      <th>No</th>\n",
       "      <td>1</td>\n",
       "      <td>647</td>\n",
       "      <td>429</td>\n",
       "    </tr>\n",
       "    <tr>\n",
       "      <th>Yes</th>\n",
       "      <td>2</td>\n",
       "      <td>672</td>\n",
       "      <td>1075</td>\n",
       "    </tr>\n",
       "  </tbody>\n",
       "</table>\n",
       "</div>"
      ],
      "text/plain": [
       "do_you_happen_to_read_any_magazines_or_journals     Don’t know   No   Yes\n",
       "do_you_happen_to_read_any_daily_news_or_newspapers                       \n",
       "Don’t know                                                   1    3     1\n",
       "No                                                           1  647   429\n",
       "Yes                                                          2  672  1075"
      ]
     },
     "execution_count": 19,
     "metadata": {},
     "output_type": "execute_result"
    }
   ],
   "source": [
    "# News vs Magazines vs Books\n",
    "pd.crosstab(df[\"do_you_happen_to_read_any_daily_news_or_newspapers\"],\n",
    "            df[\"do_you_happen_to_read_any_magazines_or_journals\"])"
   ]
  },
  {
   "cell_type": "code",
   "execution_count": 20,
   "id": "f02ecdbb-6ab8-4ddc-8e5b-c90cf12769b9",
   "metadata": {},
   "outputs": [
    {
     "data": {
      "text/plain": [
       "last_book_you_read,_you…\n",
       "Purchased the book                                  44.683857\n",
       "Borrowed the book from a friend or family member    17.696927\n",
       "No                                                  13.776051\n",
       "Borrowed the book from a library                    11.833274\n",
       "Got the book some other way                         10.914871\n",
       "8                                                    0.883080\n",
       "9                                                    0.211939\n",
       "Name: proportion, dtype: float64"
      ]
     },
     "execution_count": 20,
     "metadata": {},
     "output_type": "execute_result"
    }
   ],
   "source": [
    "# Borrow vs Purchase last book\n",
    "df[\"last_book_you_read,_you…\"].value_counts(normalize=True) * 100"
   ]
  },
  {
   "cell_type": "code",
   "execution_count": 21,
   "id": "6e429e72-1ebf-4dfa-be17-e1750f72e0c5",
   "metadata": {},
   "outputs": [],
   "source": [
    "# Save cleaned dataset to CSV\n",
    "df.to_csv(\"cleaned_reading_habits.csv\", index=False)"
   ]
  }
 ],
 "metadata": {
  "kernelspec": {
   "display_name": "Python [conda env:base] *",
   "language": "python",
   "name": "conda-base-py"
  },
  "language_info": {
   "codemirror_mode": {
    "name": "ipython",
    "version": 3
   },
   "file_extension": ".py",
   "mimetype": "text/x-python",
   "name": "python",
   "nbconvert_exporter": "python",
   "pygments_lexer": "ipython3",
   "version": "3.12.4"
  }
 },
 "nbformat": 4,
 "nbformat_minor": 5
}
